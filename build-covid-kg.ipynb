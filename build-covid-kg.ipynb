{
 "cells": [
  {
   "cell_type": "markdown",
   "metadata": {},
   "source": [
    "# Constructing ISI's COVID-19 Knowledge Graph"
   ]
  },
  {
   "cell_type": "markdown",
   "metadata": {},
   "source": [
    "This notebook shows how we use our KGTK toolking (link) to construct the COVID-19 knowledge graph for the CORD-19 corpus using the text extractions from the BLENDER group at UIUC. The text extractions inlcude a variety of entity extractions with links to bioinformatics databases. Our approach is to:\n",
    "\n",
    "* extract from Wikidata the subgraph that covers all the publications in the CORD-19 corpus and the entities identified by the BLENDER group.\n",
    "* define new Wikidata items for publications or entities that are not present in the public Wikidata\n",
    "* annotate the article items with the relevant entities\n",
    "* preserve provenance\n",
    "\n",
    "We implement the approach in the following steps:\n",
    "\n",
    "* data prepararation: convert the JSON representation of BLENDER output to CSV files that are easy to process\n",
    "* extract Wikidata subgraph: extract from Wikidata the articles, authors, and entities mentioned in the BLENDER corpus\n",
    "* create missing items: create nodes for articles and entities that are not present in Wikidata\n",
    "* create mention edges: create edges to record the entity extractions from BLENDER, including justifications\n",
    "* incorporate analytic outputs: add edges to record graph metrics such as pagerank\n",
    "* export knowledge graph: export the graph to KGTL edges, RDF and Neo4J "
   ]
  },
  {
   "cell_type": "markdown",
   "metadata": {},
   "source": [
    "## Data Preparation"
   ]
  },
  {
   "cell_type": "markdown",
   "metadata": {},
   "source": [
    "Set up environment variables with location of the input files"
   ]
  },
  {
   "cell_type": "code",
   "execution_count": 1,
   "metadata": {},
   "outputs": [],
   "source": [
    "import numpy as np\n",
    "import pandas as pd\n",
    "import os\n",
    "import json"
   ]
  },
  {
   "cell_type": "code",
   "execution_count": 2,
   "metadata": {},
   "outputs": [
    {
     "name": "stdout",
     "output_type": "stream",
     "text": [
      "env: COVID=/Users/amandeep/Github/CKG-Covid/datasets/sandbox\n",
      "env: WD=/Users/amandeep/Documents/wikidata-20200504\n"
     ]
    }
   ],
   "source": [
    "%env COVID=/Users/amandeep/Github/CKG-Covid/datasets/sandbox\n",
    "%env WD=/Users/amandeep/Documents/wikidata-20200504"
   ]
  },
  {
   "cell_type": "markdown",
   "metadata": {},
   "source": [
    "### Wikidata Data"
   ]
  },
  {
   "cell_type": "markdown",
   "metadata": {},
   "source": [
    "The Wikidata files are the large:\n",
    "\n",
    "* `wikidata_nodes_20200504.tsv.gz` the English labels, alias and descriptions for all items in Wikidata\n",
    "* `wikidata_edges_20200504.tsv.gz` the edges for all statements in Wikidata\n",
    "* `wikidata_qualifiers_20200504.tsv.gz` the qualifier edges for all statements in Wikidata"
   ]
  },
  {
   "cell_type": "code",
   "execution_count": null,
   "metadata": {},
   "outputs": [],
   "source": [
    "ls -lh \"$WD\""
   ]
  },
  {
   "cell_type": "markdown",
   "metadata": {},
   "source": [
    "Working with the dump files takes time because they are so large (86B chars and 1.1B lines), more than 6 minutes to just unzip and count lines"
   ]
  },
  {
   "cell_type": "code",
   "execution_count": null,
   "metadata": {},
   "outputs": [],
   "source": [
    "!time gzcat \"$WD/wikidata_edges_20200504.tsv.gz\" | wc"
   ]
  },
  {
   "cell_type": "markdown",
   "metadata": {},
   "source": [
    "The columns in the edge files:\n",
    "\n",
    "* `id` is a unique identifier for an edge, and provides an identifier for each statement in Wikidata\n",
    "* `node1`, `label` and `node2` are the item/property/value or subject/predicate/object\n",
    "* `rank` is the Wikidata rank for the statement\n",
    "* `node2;*` are additional columns that provide detailed information about the `node2` column, making it easy to parse"
   ]
  },
  {
   "cell_type": "code",
   "execution_count": null,
   "metadata": {},
   "outputs": [],
   "source": [
    "!gzcat \"$WD/wikidata_edges_20200504.tsv.gz\" | head"
   ]
  },
  {
   "cell_type": "markdown",
   "metadata": {},
   "source": [
    "### BLENDER Data"
   ]
  },
  {
   "cell_type": "markdown",
   "metadata": {},
   "source": [
    "The BLENDER data came in a JSON document per article. We used Python scripts to create simple TSV files that are easy to process.\n",
    "\n",
    "The `corpus-identifiers.tsv` file contains all the identifiers present in the BLENDER dataset with two columns:\n",
    "\n",
    "* node2: the value of the identifier\n",
    "* label: the name of the property in Wikidata used to represent the specific identifier. For example `P698` is PubMed ID. See https://www.wikidata.org/wiki/Q93157077"
   ]
  },
  {
   "cell_type": "code",
   "execution_count": 3,
   "metadata": {},
   "outputs": [
    {
     "data": {
      "text/html": [
       "<div>\n",
       "<style scoped>\n",
       "    .dataframe tbody tr th:only-of-type {\n",
       "        vertical-align: middle;\n",
       "    }\n",
       "\n",
       "    .dataframe tbody tr th {\n",
       "        vertical-align: top;\n",
       "    }\n",
       "\n",
       "    .dataframe thead th {\n",
       "        text-align: right;\n",
       "    }\n",
       "</style>\n",
       "<table border=\"1\" class=\"dataframe\">\n",
       "  <thead>\n",
       "    <tr style=\"text-align: right;\">\n",
       "      <th></th>\n",
       "      <th>node2</th>\n",
       "      <th>label</th>\n",
       "    </tr>\n",
       "  </thead>\n",
       "  <tbody>\n",
       "    <tr>\n",
       "      <th>0</th>\n",
       "      <td>3670673</td>\n",
       "      <td>P932</td>\n",
       "    </tr>\n",
       "    <tr>\n",
       "      <th>1</th>\n",
       "      <td>22621853</td>\n",
       "      <td>P698</td>\n",
       "    </tr>\n",
       "    <tr>\n",
       "      <th>2</th>\n",
       "      <td>9606</td>\n",
       "      <td>P685</td>\n",
       "    </tr>\n",
       "    <tr>\n",
       "      <th>3</th>\n",
       "      <td>851819</td>\n",
       "      <td>P351</td>\n",
       "    </tr>\n",
       "    <tr>\n",
       "      <th>4</th>\n",
       "      <td>851323</td>\n",
       "      <td>P351</td>\n",
       "    </tr>\n",
       "    <tr>\n",
       "      <th>...</th>\n",
       "      <td>...</td>\n",
       "      <td>...</td>\n",
       "    </tr>\n",
       "    <tr>\n",
       "      <th>99799</th>\n",
       "      <td>19423234</td>\n",
       "      <td>P698</td>\n",
       "    </tr>\n",
       "    <tr>\n",
       "      <th>99800</th>\n",
       "      <td>22609285</td>\n",
       "      <td>P698</td>\n",
       "    </tr>\n",
       "    <tr>\n",
       "      <th>99801</th>\n",
       "      <td>12781505</td>\n",
       "      <td>P698</td>\n",
       "    </tr>\n",
       "    <tr>\n",
       "      <th>99802</th>\n",
       "      <td>10028170</td>\n",
       "      <td>P698</td>\n",
       "    </tr>\n",
       "    <tr>\n",
       "      <th>99803</th>\n",
       "      <td>17961784</td>\n",
       "      <td>P698</td>\n",
       "    </tr>\n",
       "  </tbody>\n",
       "</table>\n",
       "<p>99804 rows × 2 columns</p>\n",
       "</div>"
      ],
      "text/plain": [
       "          node2 label\n",
       "0       3670673  P932\n",
       "1      22621853  P698\n",
       "2          9606  P685\n",
       "3        851819  P351\n",
       "4        851323  P351\n",
       "...         ...   ...\n",
       "99799  19423234  P698\n",
       "99800  22609285  P698\n",
       "99801  12781505  P698\n",
       "99802  10028170  P698\n",
       "99803  17961784  P698\n",
       "\n",
       "[99804 rows x 2 columns]"
      ]
     },
     "execution_count": 3,
     "metadata": {},
     "output_type": "execute_result"
    }
   ],
   "source": [
    "ids = pd.read_csv(os.getenv(\"COVID\")+'/corpus-identifiers.tsv', delimiter='\\t')\n",
    "ids"
   ]
  },
  {
   "cell_type": "markdown",
   "metadata": {},
   "source": [
    "## Extract Wikidata Subgraph"
   ]
  },
  {
   "cell_type": "markdown",
   "metadata": {},
   "source": [
    "### Step 1: find the `node1` for all the rows in `corpus-identifiers.tsv`"
   ]
  },
  {
   "cell_type": "markdown",
   "metadata": {},
   "source": [
    "We do this with the `kgtk ifexists` command to scan the file of all edges in Wikidata to select the ones where `label` and `node2` match the rows in `corpus-identifiers.tsv`. We store the results in `corpus-identifier-edges.tsv`"
   ]
  },
  {
   "cell_type": "code",
   "execution_count": 4,
   "metadata": {},
   "outputs": [
    {
     "name": "stdout",
     "output_type": "stream",
     "text": [
      "\r\n",
      "real\t43m17.833s\r\n",
      "user\t46m24.846s\r\n",
      "sys\t0m53.892s\r\n"
     ]
    }
   ],
   "source": [
    "!time gzcat \"$WD/wikidata_edges_20200504.tsv.gz\" \\\n",
    "  | kgtk ifexists --input-keys label node2 --filter-on $COVID/corpus-identifiers.tsv --filter-keys label node2 --filter-mode NONE \\\n",
    "  > $COVID/corpus-identifier-edges.tsv"
   ]
  },
  {
   "cell_type": "markdown",
   "metadata": {},
   "source": [
    "We found 72,649 q-nodes in Wikidata for the identifiers in our corpus. "
   ]
  },
  {
   "cell_type": "code",
   "execution_count": 6,
   "metadata": {},
   "outputs": [],
   "source": [
    "idedges = pd.read_csv(os.getenv(\"COVID\")+'/corpus-identifier-edges.tsv', delimiter='\\t')\n",
    "#idedges.loc[:, [ 'node2']]"
   ]
  },
  {
   "cell_type": "code",
   "execution_count": 7,
   "metadata": {},
   "outputs": [
    {
     "data": {
      "text/html": [
       "<div>\n",
       "<style scoped>\n",
       "    .dataframe tbody tr th:only-of-type {\n",
       "        vertical-align: middle;\n",
       "    }\n",
       "\n",
       "    .dataframe tbody tr th {\n",
       "        vertical-align: top;\n",
       "    }\n",
       "\n",
       "    .dataframe thead th {\n",
       "        text-align: right;\n",
       "    }\n",
       "</style>\n",
       "<table border=\"1\" class=\"dataframe\">\n",
       "  <thead>\n",
       "    <tr style=\"text-align: right;\">\n",
       "      <th></th>\n",
       "      <th>id</th>\n",
       "      <th>node1</th>\n",
       "      <th>label</th>\n",
       "      <th>node2</th>\n",
       "      <th>rank</th>\n",
       "      <th>node2;magnitude</th>\n",
       "      <th>node2;unit</th>\n",
       "      <th>node2;date</th>\n",
       "      <th>node2;item</th>\n",
       "      <th>node2;lower</th>\n",
       "      <th>node2;upper</th>\n",
       "      <th>node2;latitude</th>\n",
       "      <th>node2;longitude</th>\n",
       "      <th>node2;precision</th>\n",
       "      <th>node2;calendar</th>\n",
       "      <th>node2;entity-type</th>\n",
       "    </tr>\n",
       "  </thead>\n",
       "  <tbody>\n",
       "    <tr>\n",
       "      <th>0</th>\n",
       "      <td>Q140-P685-1</td>\n",
       "      <td>Q140</td>\n",
       "      <td>P685</td>\n",
       "      <td>9689</td>\n",
       "      <td>normal</td>\n",
       "      <td>NaN</td>\n",
       "      <td>NaN</td>\n",
       "      <td>NaN</td>\n",
       "      <td>NaN</td>\n",
       "      <td>NaN</td>\n",
       "      <td>NaN</td>\n",
       "      <td>NaN</td>\n",
       "      <td>NaN</td>\n",
       "      <td>NaN</td>\n",
       "      <td>NaN</td>\n",
       "      <td>NaN</td>\n",
       "    </tr>\n",
       "    <tr>\n",
       "      <th>1</th>\n",
       "      <td>Q556-P486-1</td>\n",
       "      <td>Q556</td>\n",
       "      <td>P486</td>\n",
       "      <td>D006859</td>\n",
       "      <td>normal</td>\n",
       "      <td>NaN</td>\n",
       "      <td>NaN</td>\n",
       "      <td>NaN</td>\n",
       "      <td>NaN</td>\n",
       "      <td>NaN</td>\n",
       "      <td>NaN</td>\n",
       "      <td>NaN</td>\n",
       "      <td>NaN</td>\n",
       "      <td>NaN</td>\n",
       "      <td>NaN</td>\n",
       "      <td>NaN</td>\n",
       "    </tr>\n",
       "    <tr>\n",
       "      <th>2</th>\n",
       "      <td>Q688-P486-1</td>\n",
       "      <td>Q688</td>\n",
       "      <td>P486</td>\n",
       "      <td>D002713</td>\n",
       "      <td>normal</td>\n",
       "      <td>NaN</td>\n",
       "      <td>NaN</td>\n",
       "      <td>NaN</td>\n",
       "      <td>NaN</td>\n",
       "      <td>NaN</td>\n",
       "      <td>NaN</td>\n",
       "      <td>NaN</td>\n",
       "      <td>NaN</td>\n",
       "      <td>NaN</td>\n",
       "      <td>NaN</td>\n",
       "      <td>NaN</td>\n",
       "    </tr>\n",
       "    <tr>\n",
       "      <th>3</th>\n",
       "      <td>Q716-P486-1</td>\n",
       "      <td>Q716</td>\n",
       "      <td>P486</td>\n",
       "      <td>D014025</td>\n",
       "      <td>normal</td>\n",
       "      <td>NaN</td>\n",
       "      <td>NaN</td>\n",
       "      <td>NaN</td>\n",
       "      <td>NaN</td>\n",
       "      <td>NaN</td>\n",
       "      <td>NaN</td>\n",
       "      <td>NaN</td>\n",
       "      <td>NaN</td>\n",
       "      <td>NaN</td>\n",
       "      <td>NaN</td>\n",
       "      <td>NaN</td>\n",
       "    </tr>\n",
       "    <tr>\n",
       "      <th>4</th>\n",
       "      <td>Q1832-P486-1</td>\n",
       "      <td>Q1832</td>\n",
       "      <td>P486</td>\n",
       "      <td>D005682</td>\n",
       "      <td>normal</td>\n",
       "      <td>NaN</td>\n",
       "      <td>NaN</td>\n",
       "      <td>NaN</td>\n",
       "      <td>NaN</td>\n",
       "      <td>NaN</td>\n",
       "      <td>NaN</td>\n",
       "      <td>NaN</td>\n",
       "      <td>NaN</td>\n",
       "      <td>NaN</td>\n",
       "      <td>NaN</td>\n",
       "      <td>NaN</td>\n",
       "    </tr>\n",
       "    <tr>\n",
       "      <th>...</th>\n",
       "      <td>...</td>\n",
       "      <td>...</td>\n",
       "      <td>...</td>\n",
       "      <td>...</td>\n",
       "      <td>...</td>\n",
       "      <td>...</td>\n",
       "      <td>...</td>\n",
       "      <td>...</td>\n",
       "      <td>...</td>\n",
       "      <td>...</td>\n",
       "      <td>...</td>\n",
       "      <td>...</td>\n",
       "      <td>...</td>\n",
       "      <td>...</td>\n",
       "      <td>...</td>\n",
       "      <td>...</td>\n",
       "    </tr>\n",
       "    <tr>\n",
       "      <th>72645</th>\n",
       "      <td>Q93147847-P932-1</td>\n",
       "      <td>Q93147847</td>\n",
       "      <td>P932</td>\n",
       "      <td>6730851</td>\n",
       "      <td>normal</td>\n",
       "      <td>NaN</td>\n",
       "      <td>NaN</td>\n",
       "      <td>NaN</td>\n",
       "      <td>NaN</td>\n",
       "      <td>NaN</td>\n",
       "      <td>NaN</td>\n",
       "      <td>NaN</td>\n",
       "      <td>NaN</td>\n",
       "      <td>NaN</td>\n",
       "      <td>NaN</td>\n",
       "      <td>NaN</td>\n",
       "    </tr>\n",
       "    <tr>\n",
       "      <th>72646</th>\n",
       "      <td>Q93157077-P698-1</td>\n",
       "      <td>Q93157077</td>\n",
       "      <td>P698</td>\n",
       "      <td>31492122</td>\n",
       "      <td>normal</td>\n",
       "      <td>NaN</td>\n",
       "      <td>NaN</td>\n",
       "      <td>NaN</td>\n",
       "      <td>NaN</td>\n",
       "      <td>NaN</td>\n",
       "      <td>NaN</td>\n",
       "      <td>NaN</td>\n",
       "      <td>NaN</td>\n",
       "      <td>NaN</td>\n",
       "      <td>NaN</td>\n",
       "      <td>NaN</td>\n",
       "    </tr>\n",
       "    <tr>\n",
       "      <th>72647</th>\n",
       "      <td>Q93157077-P932-1</td>\n",
       "      <td>Q93157077</td>\n",
       "      <td>P932</td>\n",
       "      <td>6731609</td>\n",
       "      <td>normal</td>\n",
       "      <td>NaN</td>\n",
       "      <td>NaN</td>\n",
       "      <td>NaN</td>\n",
       "      <td>NaN</td>\n",
       "      <td>NaN</td>\n",
       "      <td>NaN</td>\n",
       "      <td>NaN</td>\n",
       "      <td>NaN</td>\n",
       "      <td>NaN</td>\n",
       "      <td>NaN</td>\n",
       "      <td>NaN</td>\n",
       "    </tr>\n",
       "    <tr>\n",
       "      <th>72648</th>\n",
       "      <td>Q93157501-P698-1</td>\n",
       "      <td>Q93157501</td>\n",
       "      <td>P698</td>\n",
       "      <td>31492169</td>\n",
       "      <td>normal</td>\n",
       "      <td>NaN</td>\n",
       "      <td>NaN</td>\n",
       "      <td>NaN</td>\n",
       "      <td>NaN</td>\n",
       "      <td>NaN</td>\n",
       "      <td>NaN</td>\n",
       "      <td>NaN</td>\n",
       "      <td>NaN</td>\n",
       "      <td>NaN</td>\n",
       "      <td>NaN</td>\n",
       "      <td>NaN</td>\n",
       "    </tr>\n",
       "    <tr>\n",
       "      <th>72649</th>\n",
       "      <td>Q93157501-P932-1</td>\n",
       "      <td>Q93157501</td>\n",
       "      <td>P932</td>\n",
       "      <td>6729025</td>\n",
       "      <td>normal</td>\n",
       "      <td>NaN</td>\n",
       "      <td>NaN</td>\n",
       "      <td>NaN</td>\n",
       "      <td>NaN</td>\n",
       "      <td>NaN</td>\n",
       "      <td>NaN</td>\n",
       "      <td>NaN</td>\n",
       "      <td>NaN</td>\n",
       "      <td>NaN</td>\n",
       "      <td>NaN</td>\n",
       "      <td>NaN</td>\n",
       "    </tr>\n",
       "  </tbody>\n",
       "</table>\n",
       "<p>72650 rows × 16 columns</p>\n",
       "</div>"
      ],
      "text/plain": [
       "                     id      node1 label     node2    rank  node2;magnitude  \\\n",
       "0           Q140-P685-1       Q140  P685      9689  normal              NaN   \n",
       "1           Q556-P486-1       Q556  P486   D006859  normal              NaN   \n",
       "2           Q688-P486-1       Q688  P486   D002713  normal              NaN   \n",
       "3           Q716-P486-1       Q716  P486   D014025  normal              NaN   \n",
       "4          Q1832-P486-1      Q1832  P486   D005682  normal              NaN   \n",
       "...                 ...        ...   ...       ...     ...              ...   \n",
       "72645  Q93147847-P932-1  Q93147847  P932   6730851  normal              NaN   \n",
       "72646  Q93157077-P698-1  Q93157077  P698  31492122  normal              NaN   \n",
       "72647  Q93157077-P932-1  Q93157077  P932   6731609  normal              NaN   \n",
       "72648  Q93157501-P698-1  Q93157501  P698  31492169  normal              NaN   \n",
       "72649  Q93157501-P932-1  Q93157501  P932   6729025  normal              NaN   \n",
       "\n",
       "       node2;unit  node2;date  node2;item  node2;lower  node2;upper  \\\n",
       "0             NaN         NaN         NaN          NaN          NaN   \n",
       "1             NaN         NaN         NaN          NaN          NaN   \n",
       "2             NaN         NaN         NaN          NaN          NaN   \n",
       "3             NaN         NaN         NaN          NaN          NaN   \n",
       "4             NaN         NaN         NaN          NaN          NaN   \n",
       "...           ...         ...         ...          ...          ...   \n",
       "72645         NaN         NaN         NaN          NaN          NaN   \n",
       "72646         NaN         NaN         NaN          NaN          NaN   \n",
       "72647         NaN         NaN         NaN          NaN          NaN   \n",
       "72648         NaN         NaN         NaN          NaN          NaN   \n",
       "72649         NaN         NaN         NaN          NaN          NaN   \n",
       "\n",
       "       node2;latitude  node2;longitude  node2;precision  node2;calendar  \\\n",
       "0                 NaN              NaN              NaN             NaN   \n",
       "1                 NaN              NaN              NaN             NaN   \n",
       "2                 NaN              NaN              NaN             NaN   \n",
       "3                 NaN              NaN              NaN             NaN   \n",
       "4                 NaN              NaN              NaN             NaN   \n",
       "...               ...              ...              ...             ...   \n",
       "72645             NaN              NaN              NaN             NaN   \n",
       "72646             NaN              NaN              NaN             NaN   \n",
       "72647             NaN              NaN              NaN             NaN   \n",
       "72648             NaN              NaN              NaN             NaN   \n",
       "72649             NaN              NaN              NaN             NaN   \n",
       "\n",
       "       node2;entity-type  \n",
       "0                    NaN  \n",
       "1                    NaN  \n",
       "2                    NaN  \n",
       "3                    NaN  \n",
       "4                    NaN  \n",
       "...                  ...  \n",
       "72645                NaN  \n",
       "72646                NaN  \n",
       "72647                NaN  \n",
       "72648                NaN  \n",
       "72649                NaN  \n",
       "\n",
       "[72650 rows x 16 columns]"
      ]
     },
     "execution_count": 7,
     "metadata": {},
     "output_type": "execute_result"
    }
   ],
   "source": [
    "idedges"
   ]
  },
  {
   "cell_type": "markdown",
   "metadata": {},
   "source": [
    "Here are the counts of the q-nodes we found in Wikidata for each property."
   ]
  },
  {
   "cell_type": "code",
   "execution_count": 8,
   "metadata": {},
   "outputs": [
    {
     "data": {
      "text/plain": [
       "P698     20426\n",
       "P351     18235\n",
       "P932     14169\n",
       "P486     10096\n",
       "P685      9721\n",
       "P5055        3\n",
       "Name: label, dtype: int64"
      ]
     },
     "execution_count": 8,
     "metadata": {},
     "output_type": "execute_result"
    }
   ],
   "source": [
    "idedges['label'].value_counts()"
   ]
  },
  {
   "cell_type": "markdown",
   "metadata": {},
   "source": [
    "### Step 2: get all the edges from Wikidata for the q-nodes in `corpus-identifier-edges.tsv`"
   ]
  },
  {
   "cell_type": "markdown",
   "metadata": {},
   "source": [
    "To do this, we again scan all the edges in Wikidata looking for edges whose `node1` matches the `node1` in `corpus-identifier-edges.tsv`"
   ]
  },
  {
   "cell_type": "code",
   "execution_count": null,
   "metadata": {},
   "outputs": [],
   "source": [
    "!time gzcat \"$WD/wikidata_edges_20200504.tsv.gz\" \\\n",
    "  | kgtk ifexists --input-keys node1 --filter-on $COVID/corpus-identifier-edges.tsv --filter-keys node1 \\\n",
    "  > $COVID/corpus-edges.tsv"
   ]
  },
  {
   "cell_type": "markdown",
   "metadata": {},
   "source": [
    "We now have 2.2 million edges for the entities in our corpus."
   ]
  },
  {
   "cell_type": "code",
   "execution_count": 10,
   "metadata": {},
   "outputs": [
    {
     "name": "stdout",
     "output_type": "stream",
     "text": [
      " 2297783 13662891 176151115 /Users/amandeep/Github/CKG-Covid/datasets/sandbox/corpus-edges.tsv\r\n"
     ]
    }
   ],
   "source": [
    "!wc $COVID/corpus-edges.tsv"
   ]
  },
  {
   "cell_type": "markdown",
   "metadata": {},
   "source": [
    "We can use Pandas to explore the data"
   ]
  },
  {
   "cell_type": "code",
   "execution_count": 11,
   "metadata": {},
   "outputs": [],
   "source": [
    "ce = pd.read_csv(os.getenv(\"COVID\")+'/corpus-edges.tsv', delimiter='\\t', index_col=['id'], dtype=object)"
   ]
  },
  {
   "cell_type": "code",
   "execution_count": 12,
   "metadata": {},
   "outputs": [
    {
     "data": {
      "text/html": [
       "<div>\n",
       "<style scoped>\n",
       "    .dataframe tbody tr th:only-of-type {\n",
       "        vertical-align: middle;\n",
       "    }\n",
       "\n",
       "    .dataframe tbody tr th {\n",
       "        vertical-align: top;\n",
       "    }\n",
       "\n",
       "    .dataframe thead th {\n",
       "        text-align: right;\n",
       "    }\n",
       "</style>\n",
       "<table border=\"1\" class=\"dataframe\">\n",
       "  <thead>\n",
       "    <tr style=\"text-align: right;\">\n",
       "      <th></th>\n",
       "      <th>node1</th>\n",
       "      <th>label</th>\n",
       "      <th>node2</th>\n",
       "      <th>node2;entity-type</th>\n",
       "    </tr>\n",
       "    <tr>\n",
       "      <th>id</th>\n",
       "      <th></th>\n",
       "      <th></th>\n",
       "      <th></th>\n",
       "      <th></th>\n",
       "    </tr>\n",
       "  </thead>\n",
       "  <tbody>\n",
       "    <tr>\n",
       "      <th>Q140-P225-1</th>\n",
       "      <td>Q140</td>\n",
       "      <td>P225</td>\n",
       "      <td>Panthera leo</td>\n",
       "      <td>NaN</td>\n",
       "    </tr>\n",
       "    <tr>\n",
       "      <th>Q140-P105-1</th>\n",
       "      <td>Q140</td>\n",
       "      <td>P105</td>\n",
       "      <td>Q7432</td>\n",
       "      <td>item</td>\n",
       "    </tr>\n",
       "    <tr>\n",
       "      <th>Q140-P171-1</th>\n",
       "      <td>Q140</td>\n",
       "      <td>P171</td>\n",
       "      <td>Q127960</td>\n",
       "      <td>item</td>\n",
       "    </tr>\n",
       "    <tr>\n",
       "      <th>Q140-P31-1</th>\n",
       "      <td>Q140</td>\n",
       "      <td>P31</td>\n",
       "      <td>Q16521</td>\n",
       "      <td>item</td>\n",
       "    </tr>\n",
       "    <tr>\n",
       "      <th>Q140-P1403-1</th>\n",
       "      <td>Q140</td>\n",
       "      <td>P1403</td>\n",
       "      <td>Q15294488</td>\n",
       "      <td>item</td>\n",
       "    </tr>\n",
       "  </tbody>\n",
       "</table>\n",
       "</div>"
      ],
      "text/plain": [
       "             node1  label         node2 node2;entity-type\n",
       "id                                                       \n",
       "Q140-P225-1   Q140   P225  Panthera leo               NaN\n",
       "Q140-P105-1   Q140   P105         Q7432              item\n",
       "Q140-P171-1   Q140   P171       Q127960              item\n",
       "Q140-P31-1    Q140    P31        Q16521              item\n",
       "Q140-P1403-1  Q140  P1403     Q15294488              item"
      ]
     },
     "execution_count": 12,
     "metadata": {},
     "output_type": "execute_result"
    }
   ],
   "source": [
    "ce.loc[:, ['node1', 'label', 'node2', 'node2;entity-type']].head(5)"
   ]
  },
  {
   "cell_type": "code",
   "execution_count": 13,
   "metadata": {},
   "outputs": [
    {
     "data": {
      "text/html": [
       "<div>\n",
       "<style scoped>\n",
       "    .dataframe tbody tr th:only-of-type {\n",
       "        vertical-align: middle;\n",
       "    }\n",
       "\n",
       "    .dataframe tbody tr th {\n",
       "        vertical-align: top;\n",
       "    }\n",
       "\n",
       "    .dataframe thead th {\n",
       "        text-align: right;\n",
       "    }\n",
       "</style>\n",
       "<table border=\"1\" class=\"dataframe\">\n",
       "  <thead>\n",
       "    <tr style=\"text-align: right;\">\n",
       "      <th></th>\n",
       "      <th>node1</th>\n",
       "      <th>label</th>\n",
       "      <th>node2</th>\n",
       "      <th>node2;entity-type</th>\n",
       "    </tr>\n",
       "    <tr>\n",
       "      <th>id</th>\n",
       "      <th></th>\n",
       "      <th></th>\n",
       "      <th></th>\n",
       "      <th></th>\n",
       "    </tr>\n",
       "  </thead>\n",
       "  <tbody>\n",
       "    <tr>\n",
       "      <th>Q140-P105-1</th>\n",
       "      <td>Q140</td>\n",
       "      <td>P105</td>\n",
       "      <td>Q7432</td>\n",
       "      <td>item</td>\n",
       "    </tr>\n",
       "    <tr>\n",
       "      <th>Q140-P171-1</th>\n",
       "      <td>Q140</td>\n",
       "      <td>P171</td>\n",
       "      <td>Q127960</td>\n",
       "      <td>item</td>\n",
       "    </tr>\n",
       "    <tr>\n",
       "      <th>Q140-P31-1</th>\n",
       "      <td>Q140</td>\n",
       "      <td>P31</td>\n",
       "      <td>Q16521</td>\n",
       "      <td>item</td>\n",
       "    </tr>\n",
       "    <tr>\n",
       "      <th>Q140-P1403-1</th>\n",
       "      <td>Q140</td>\n",
       "      <td>P1403</td>\n",
       "      <td>Q15294488</td>\n",
       "      <td>item</td>\n",
       "    </tr>\n",
       "    <tr>\n",
       "      <th>Q140-P141-1</th>\n",
       "      <td>Q140</td>\n",
       "      <td>P141</td>\n",
       "      <td>Q278113</td>\n",
       "      <td>item</td>\n",
       "    </tr>\n",
       "    <tr>\n",
       "      <th>...</th>\n",
       "      <td>...</td>\n",
       "      <td>...</td>\n",
       "      <td>...</td>\n",
       "      <td>...</td>\n",
       "    </tr>\n",
       "    <tr>\n",
       "      <th>Q93157077-P50-1</th>\n",
       "      <td>Q93157077</td>\n",
       "      <td>P50</td>\n",
       "      <td>Q93157070</td>\n",
       "      <td>item</td>\n",
       "    </tr>\n",
       "    <tr>\n",
       "      <th>Q93157077-P921-1</th>\n",
       "      <td>Q93157077</td>\n",
       "      <td>P921</td>\n",
       "      <td>Q12184</td>\n",
       "      <td>item</td>\n",
       "    </tr>\n",
       "    <tr>\n",
       "      <th>Q93157501-P1433-1</th>\n",
       "      <td>Q93157501</td>\n",
       "      <td>P1433</td>\n",
       "      <td>Q15752156</td>\n",
       "      <td>item</td>\n",
       "    </tr>\n",
       "    <tr>\n",
       "      <th>Q93157501-P31-1</th>\n",
       "      <td>Q93157501</td>\n",
       "      <td>P31</td>\n",
       "      <td>Q13442814</td>\n",
       "      <td>item</td>\n",
       "    </tr>\n",
       "    <tr>\n",
       "      <th>Q93157501-P50-1</th>\n",
       "      <td>Q93157501</td>\n",
       "      <td>P50</td>\n",
       "      <td>Q92401632</td>\n",
       "      <td>item</td>\n",
       "    </tr>\n",
       "  </tbody>\n",
       "</table>\n",
       "<p>907825 rows × 4 columns</p>\n",
       "</div>"
      ],
      "text/plain": [
       "                       node1  label      node2 node2;entity-type\n",
       "id                                                              \n",
       "Q140-P105-1             Q140   P105      Q7432              item\n",
       "Q140-P171-1             Q140   P171    Q127960              item\n",
       "Q140-P31-1              Q140    P31     Q16521              item\n",
       "Q140-P1403-1            Q140  P1403  Q15294488              item\n",
       "Q140-P141-1             Q140   P141    Q278113              item\n",
       "...                      ...    ...        ...               ...\n",
       "Q93157077-P50-1    Q93157077    P50  Q93157070              item\n",
       "Q93157077-P921-1   Q93157077   P921     Q12184              item\n",
       "Q93157501-P1433-1  Q93157501  P1433  Q15752156              item\n",
       "Q93157501-P31-1    Q93157501    P31  Q13442814              item\n",
       "Q93157501-P50-1    Q93157501    P50  Q92401632              item\n",
       "\n",
       "[907825 rows x 4 columns]"
      ]
     },
     "execution_count": 13,
     "metadata": {},
     "output_type": "execute_result"
    }
   ],
   "source": [
    "ce[ce['node2;entity-type']=='item'].loc[:, ['node1', 'label', 'node2', 'node2;entity-type']]"
   ]
  },
  {
   "cell_type": "code",
   "execution_count": 14,
   "metadata": {},
   "outputs": [
    {
     "data": {
      "text/plain": [
       "P2860    540720\n",
       "P31       62617\n",
       "P684      52486\n",
       "P279      28076\n",
       "P50       25283\n",
       "          ...  \n",
       "P4954         1\n",
       "P790          1\n",
       "P6104         1\n",
       "P1425         1\n",
       "P1918         1\n",
       "Name: label, Length: 221, dtype: int64"
      ]
     },
     "execution_count": 14,
     "metadata": {},
     "output_type": "execute_result"
    }
   ],
   "source": [
    "ce[ce['node2;entity-type']=='item'].label.value_counts()"
   ]
  },
  {
   "cell_type": "code",
   "execution_count": 16,
   "metadata": {},
   "outputs": [
    {
     "data": {
      "text/plain": [
       "P2860                 540720\n",
       "wikipedia_sitelink    300857\n",
       "P704                  120845\n",
       "P2093                 109421\n",
       "P639                   87783\n",
       "P31                    62617\n",
       "P684                   52486\n",
       "P1843                  38031\n",
       "P279                   28076\n",
       "P2888                  26496\n",
       "P645                   25676\n",
       "P644                   25670\n",
       "P50                    25283\n",
       "P577                   20699\n",
       "P1476                  20479\n",
       "P698                   20438\n",
       "P1433                  20413\n",
       "P356                   20197\n",
       "P478                   20164\n",
       "P688                   19353\n",
       "Name: label, dtype: int64"
      ]
     },
     "execution_count": 16,
     "metadata": {},
     "output_type": "execute_result"
    }
   ],
   "source": [
    "ce.label.value_counts()[0:20]"
   ]
  },
  {
   "cell_type": "markdown",
   "metadata": {},
   "source": [
    "We can use the Wikidata cli to see what the top properties:"
   ]
  },
  {
   "cell_type": "code",
   "execution_count": 17,
   "metadata": {},
   "outputs": [
    {
     "name": "stdout",
     "output_type": "stream",
     "text": [
      "\u001b[90mid\u001b[39m P2860\n",
      "\u001b[42mLabel\u001b[49m cites work\n",
      "\u001b[44mDescription\u001b[49m citation from one creative work to another\n",
      "\u001b[30m\u001b[47minstance of\u001b[49m\u001b[39m \u001b[90m(P31)\u001b[39m\u001b[90m: \u001b[39mWikidata property for items about works \u001b[90m(Q18618644)\u001b[39m\n",
      "\n",
      "\u001b[90mid\u001b[39m P704\n",
      "\u001b[42mLabel\u001b[49m Ensembl transcript ID\n",
      "\u001b[44mDescription\u001b[49m transcript ID issued by Ensembl database\n",
      "\u001b[30m\u001b[47minstance of\u001b[49m\u001b[39m \u001b[90m(P31)\u001b[39m\u001b[90m: \u001b[39mWikidata property for an identifier \u001b[90m(Q19847637)\u001b[39m | Wikidata property related to medicine \u001b[90m(Q19887775)\u001b[39m\n",
      "\n",
      "\u001b[90mid\u001b[39m P2093\n",
      "\u001b[42mLabel\u001b[49m author name string\n",
      "\u001b[44mDescription\u001b[49m string to store unspecified author name for publications; use if Wikidata item for author (P50) does not exist or is not known\n",
      "\u001b[30m\u001b[47minstance of\u001b[49m\u001b[39m \u001b[90m(P31)\u001b[39m\u001b[90m: \u001b[39mWikidata property for items about works \u001b[90m(Q18618644)\u001b[39m | Wikidata property with datatype string that is not an external identifier \u001b[90m(Q21099935)\u001b[39m | Wikidata property to indicate a source \u001b[90m(Q18608359)\u001b[39m\n"
     ]
    }
   ],
   "source": [
    "!wd u P2860, P704, P2093"
   ]
  },
  {
   "cell_type": "markdown",
   "metadata": {},
   "source": [
    "How many authors have items in Wikidata?"
   ]
  },
  {
   "cell_type": "code",
   "execution_count": 18,
   "metadata": {},
   "outputs": [
    {
     "data": {
      "text/plain": [
       "Q13442814    20473\n",
       "Q7187        18221\n",
       "Q20747295    15858\n",
       "Q15978631    10696\n",
       "Q16521        9503\n",
       "Q7432         9053\n",
       "Q22809680     8136\n",
       "Q22809711     8090\n",
       "Q1860         7786\n",
       "Q83310        4767\n",
       "1             3385\n",
       "Q11173        3128\n",
       "Q12136        3011\n",
       "2             2207\n",
       "3             2058\n",
       "4             2008\n",
       "6             1898\n",
       "Q211005       1883\n",
       "5             1638\n",
       "7             1603\n",
       "Name: node2, dtype: int64"
      ]
     },
     "execution_count": 18,
     "metadata": {},
     "output_type": "execute_result"
    }
   ],
   "source": [
    "ce.node2.value_counts()[0:20]"
   ]
  },
  {
   "cell_type": "code",
   "execution_count": 19,
   "metadata": {},
   "outputs": [
    {
     "name": "stdout",
     "output_type": "stream",
     "text": [
      "\u001b[90mid\u001b[39m Q13442814\n",
      "\u001b[42mLabel\u001b[49m scholarly article\n",
      "\u001b[44mDescription\u001b[49m article in an academic publication, usually peer reviewed\n",
      "\u001b[30m\u001b[47msubclass of\u001b[49m\u001b[39m \u001b[90m(P279)\u001b[39m\u001b[90m: \u001b[39mscholarly publication \u001b[90m(Q591041)\u001b[39m | article \u001b[90m(Q191067)\u001b[39m | scholarly work \u001b[90m(Q55915575)\u001b[39m\n",
      "\n",
      "\u001b[90mid\u001b[39m Q7187\n",
      "\u001b[42mLabel\u001b[49m gene\n",
      "\u001b[44mDescription\u001b[49m basic physical and functional unit of heredity\n",
      "\u001b[30m\u001b[47msubclass of\u001b[49m\u001b[39m \u001b[90m(P279)\u001b[39m\u001b[90m: \u001b[39mNucleic acid sequence \u001b[90m(Q863908)\u001b[39m | biological region \u001b[90m(Q50365914)\u001b[39m | biological sequence \u001b[90m(Q3511065)\u001b[39m\n",
      "\n",
      "\u001b[90mid\u001b[39m Q20747295\n",
      "\u001b[42mLabel\u001b[49m protein-coding gene\n",
      "\u001b[44mDescription\u001b[49m Type of a gene\n",
      "\u001b[30m\u001b[47msubclass of\u001b[49m\u001b[39m \u001b[90m(P279)\u001b[39m\u001b[90m: \u001b[39mgene \u001b[90m(Q7187)\u001b[39m\n",
      "\n",
      "\u001b[90mid\u001b[39m Q15978631\n",
      "\u001b[42mLabel\u001b[49m Homo sapiens\n",
      "\u001b[44mDescription\u001b[49m species of mammal\n",
      "\u001b[30m\u001b[47minstance of\u001b[49m\u001b[39m \u001b[90m(P31)\u001b[39m\u001b[90m: \u001b[39mtaxon \u001b[90m(Q16521)\u001b[39m\n"
     ]
    }
   ],
   "source": [
    "!wd u Q13442814, Q7187, Q20747295, Q15978631"
   ]
  },
  {
   "cell_type": "code",
   "execution_count": 20,
   "metadata": {},
   "outputs": [
    {
     "name": "stdout",
     "output_type": "stream",
     "text": [
      "   25284\r\n"
     ]
    }
   ],
   "source": [
    "!kgtk filter -p ';P50;' $COVID/corpus-edges.tsv | wc -l"
   ]
  },
  {
   "cell_type": "markdown",
   "metadata": {},
   "source": [
    "### Step 3:"
   ]
  },
  {
   "cell_type": "code",
   "execution_count": null,
   "metadata": {},
   "outputs": [],
   "source": [
    "!kgtk filter -p ';P50, P2860;' $COVID/corpus-edges.tsv > $COVID/citation-and-author-edges.tsv"
   ]
  },
  {
   "cell_type": "code",
   "execution_count": 21,
   "metadata": {},
   "outputs": [
    {
     "data": {
      "text/html": [
       "<div>\n",
       "<style scoped>\n",
       "    .dataframe tbody tr th:only-of-type {\n",
       "        vertical-align: middle;\n",
       "    }\n",
       "\n",
       "    .dataframe tbody tr th {\n",
       "        vertical-align: top;\n",
       "    }\n",
       "\n",
       "    .dataframe thead th {\n",
       "        text-align: right;\n",
       "    }\n",
       "</style>\n",
       "<table border=\"1\" class=\"dataframe\">\n",
       "  <thead>\n",
       "    <tr style=\"text-align: right;\">\n",
       "      <th></th>\n",
       "      <th>id</th>\n",
       "      <th>node1</th>\n",
       "      <th>label</th>\n",
       "      <th>node2</th>\n",
       "    </tr>\n",
       "  </thead>\n",
       "  <tbody>\n",
       "    <tr>\n",
       "      <th>0</th>\n",
       "      <td>Q21090495-P2860-1</td>\n",
       "      <td>Q21090495</td>\n",
       "      <td>P2860</td>\n",
       "      <td>Q24611162</td>\n",
       "    </tr>\n",
       "    <tr>\n",
       "      <th>1</th>\n",
       "      <td>Q21090495-P2860-2</td>\n",
       "      <td>Q21090495</td>\n",
       "      <td>P2860</td>\n",
       "      <td>Q24655519</td>\n",
       "    </tr>\n",
       "    <tr>\n",
       "      <th>2</th>\n",
       "      <td>Q21090495-P2860-3</td>\n",
       "      <td>Q21090495</td>\n",
       "      <td>P2860</td>\n",
       "      <td>Q22065976</td>\n",
       "    </tr>\n",
       "    <tr>\n",
       "      <th>3</th>\n",
       "      <td>Q21090495-P2860-4</td>\n",
       "      <td>Q21090495</td>\n",
       "      <td>P2860</td>\n",
       "      <td>Q24650035</td>\n",
       "    </tr>\n",
       "    <tr>\n",
       "      <th>4</th>\n",
       "      <td>Q21090495-P2860-5</td>\n",
       "      <td>Q21090495</td>\n",
       "      <td>P2860</td>\n",
       "      <td>Q24684593</td>\n",
       "    </tr>\n",
       "    <tr>\n",
       "      <th>...</th>\n",
       "      <td>...</td>\n",
       "      <td>...</td>\n",
       "      <td>...</td>\n",
       "      <td>...</td>\n",
       "    </tr>\n",
       "    <tr>\n",
       "      <th>565998</th>\n",
       "      <td>Q93147847-P50-1</td>\n",
       "      <td>Q93147847</td>\n",
       "      <td>P50</td>\n",
       "      <td>Q61104970</td>\n",
       "    </tr>\n",
       "    <tr>\n",
       "      <th>565999</th>\n",
       "      <td>Q93147847-P50-2</td>\n",
       "      <td>Q93147847</td>\n",
       "      <td>P50</td>\n",
       "      <td>Q90414144</td>\n",
       "    </tr>\n",
       "    <tr>\n",
       "      <th>566000</th>\n",
       "      <td>Q93147847-P50-3</td>\n",
       "      <td>Q93147847</td>\n",
       "      <td>P50</td>\n",
       "      <td>Q87706998</td>\n",
       "    </tr>\n",
       "    <tr>\n",
       "      <th>566001</th>\n",
       "      <td>Q93157077-P50-1</td>\n",
       "      <td>Q93157077</td>\n",
       "      <td>P50</td>\n",
       "      <td>Q93157070</td>\n",
       "    </tr>\n",
       "    <tr>\n",
       "      <th>566002</th>\n",
       "      <td>Q93157501-P50-1</td>\n",
       "      <td>Q93157501</td>\n",
       "      <td>P50</td>\n",
       "      <td>Q92401632</td>\n",
       "    </tr>\n",
       "  </tbody>\n",
       "</table>\n",
       "<p>566003 rows × 4 columns</p>\n",
       "</div>"
      ],
      "text/plain": [
       "                       id      node1  label      node2\n",
       "0       Q21090495-P2860-1  Q21090495  P2860  Q24611162\n",
       "1       Q21090495-P2860-2  Q21090495  P2860  Q24655519\n",
       "2       Q21090495-P2860-3  Q21090495  P2860  Q22065976\n",
       "3       Q21090495-P2860-4  Q21090495  P2860  Q24650035\n",
       "4       Q21090495-P2860-5  Q21090495  P2860  Q24684593\n",
       "...                   ...        ...    ...        ...\n",
       "565998    Q93147847-P50-1  Q93147847    P50  Q61104970\n",
       "565999    Q93147847-P50-2  Q93147847    P50  Q90414144\n",
       "566000    Q93147847-P50-3  Q93147847    P50  Q87706998\n",
       "566001    Q93157077-P50-1  Q93157077    P50  Q93157070\n",
       "566002    Q93157501-P50-1  Q93157501    P50  Q92401632\n",
       "\n",
       "[566003 rows x 4 columns]"
      ]
     },
     "execution_count": 21,
     "metadata": {},
     "output_type": "execute_result"
    }
   ],
   "source": [
    "caae = pd.read_csv(os.getenv(\"COVID\")+'/citation-and-author-edges.tsv', delimiter='\\t')\n",
    "caae.loc[:, ['id', 'node1', 'label', 'node2']]"
   ]
  },
  {
   "cell_type": "markdown",
   "metadata": {},
   "source": [
    "Let's look at some of the items we got"
   ]
  },
  {
   "cell_type": "code",
   "execution_count": 22,
   "metadata": {},
   "outputs": [
    {
     "name": "stdout",
     "output_type": "stream",
     "text": [
      "\u001b[90mid\u001b[39m Q24611162\n",
      "\u001b[42mLabel\u001b[49m Viral mutation rates\n",
      "\u001b[44mDescription\u001b[49m scientific article\n",
      "\u001b[30m\u001b[47minstance of\u001b[49m\u001b[39m \u001b[90m(P31)\u001b[39m\u001b[90m: \u001b[39mscholarly article \u001b[90m(Q13442814)\u001b[39m\n",
      "\n",
      "\u001b[90mid\u001b[39m Q61104970\n",
      "\u001b[42mLabel\u001b[49m Veerasak Punyapornwithaya\n",
      "\u001b[44mDescription\u001b[49m researcher ORCID ID = 0000-0001-9870-7773\n",
      "\u001b[30m\u001b[47minstance of\u001b[49m\u001b[39m \u001b[90m(P31)\u001b[39m\u001b[90m: \u001b[39mhuman \u001b[90m(Q5)\u001b[39m\n"
     ]
    }
   ],
   "source": [
    "!wd u Q24611162, Q61104970"
   ]
  },
  {
   "cell_type": "markdown",
   "metadata": {},
   "source": [
    "Fetch all the edges from Wikidata about the authors and citations in our corpus.\n",
    "We do this by scanning the Wikidata edges file and extraction all edges where node1 matches node2 in `citation-and-author-edges.tsv`"
   ]
  },
  {
   "cell_type": "code",
   "execution_count": null,
   "metadata": {},
   "outputs": [],
   "source": [
    "!time gzcat \"$WD/wikidata_edges_20200504.tsv.gz\" \\\n",
    "  | kgtk ifexists --input-keys node1 --filter-on $COVID/citation-and-author-edges.tsv --filter-keys node2 \\\n",
    "  > $COVID/corpus-citations-and-authors.tsv"
   ]
  },
  {
   "cell_type": "markdown",
   "metadata": {},
   "source": [
    "Keep the edges for the articles and entities that we have in the BLENDER corpus"
   ]
  },
  {
   "cell_type": "markdown",
   "metadata": {},
   "source": [
    "First extract all the edges that we may want to use (this takes 107 minutes)"
   ]
  },
  {
   "cell_type": "code",
   "execution_count": 23,
   "metadata": {},
   "outputs": [
    {
     "name": "stdout",
     "output_type": "stream",
     "text": [
      " 11389393 78495849 854598718 /Users/amandeep/Github/CKG-Covid/datasets/sandbox/corpus-citations-and-authors.tsv\r\n"
     ]
    }
   ],
   "source": [
    "!wc $COVID/corpus-citations-and-authors.tsv"
   ]
  },
  {
   "cell_type": "code",
   "execution_count": 24,
   "metadata": {},
   "outputs": [
    {
     "name": "stdout",
     "output_type": "stream",
     "text": [
      "id\tnode1\tlabel\tnode2\trank\tnode2;magnitude\tnode2;unit\tnode2;date\tnode2;item\tnode2;lower\tnode2;upper\tnode2;latitude\tnode2;longitude\tnode2;precision\tnode2;calendar\tnode2;entity-type\r\n",
      "Q493567-P21-1\tQ493567\tP21\tQ6581097\tnormal\t\t\t\tQ6581097\t\t\t\t\t\t\titem\r\n",
      "Q493567-P106-1\tQ493567\tP106\tQ3779582\tnormal\t\t\t\tQ3779582\t\t\t\t\t\t\titem\r\n",
      "Q493567-P106-2\tQ493567\tP106\tQ39631\tnormal\t\t\t\tQ39631\t\t\t\t\t\t\titem\r\n",
      "Q493567-P106-3\tQ493567\tP106\tQ82955\tnormal\t\t\t\tQ82955\t\t\t\t\t\t\titem\r\n",
      "Q493567-P106-4\tQ493567\tP106\tQ1622272\tnormal\t\t\t\tQ1622272\t\t\t\t\t\t\titem\r\n",
      "Q493567-P106-5\tQ493567\tP106\tQ15634281\tnormal\t\t\t\tQ15634281\t\t\t\t\t\t\titem\r\n",
      "Q493567-P19-1\tQ493567\tP19\tQ984894\tnormal\t\t\t\tQ984894\t\t\t\t\t\t\titem\r\n",
      "Q493567-P244-1\tQ493567\tP244\t\"n88290830\"\tnormal\t\t\t\t\t\t\t\t\t\t\t\r\n",
      "Q493567-P214-1\tQ493567\tP214\t\"69131111\"\tnormal\t\t\t\t\t\t\t\t\t\t\t\r\n"
     ]
    }
   ],
   "source": [
    "!head $COVID/corpus-citations-and-authors.tsv"
   ]
  },
  {
   "cell_type": "code",
   "execution_count": 27,
   "metadata": {},
   "outputs": [
    {
     "data": {
      "text/html": [
       "<div>\n",
       "<style scoped>\n",
       "    .dataframe tbody tr th:only-of-type {\n",
       "        vertical-align: middle;\n",
       "    }\n",
       "\n",
       "    .dataframe tbody tr th {\n",
       "        vertical-align: top;\n",
       "    }\n",
       "\n",
       "    .dataframe thead th {\n",
       "        text-align: right;\n",
       "    }\n",
       "</style>\n",
       "<table border=\"1\" class=\"dataframe\">\n",
       "  <thead>\n",
       "    <tr style=\"text-align: right;\">\n",
       "      <th></th>\n",
       "      <th>id</th>\n",
       "      <th>node1</th>\n",
       "      <th>label</th>\n",
       "      <th>node2</th>\n",
       "    </tr>\n",
       "  </thead>\n",
       "  <tbody>\n",
       "    <tr>\n",
       "      <th>0</th>\n",
       "      <td>Q493567-P21-1</td>\n",
       "      <td>Q493567</td>\n",
       "      <td>P21</td>\n",
       "      <td>Q6581097</td>\n",
       "    </tr>\n",
       "    <tr>\n",
       "      <th>1</th>\n",
       "      <td>Q493567-P106-1</td>\n",
       "      <td>Q493567</td>\n",
       "      <td>P106</td>\n",
       "      <td>Q3779582</td>\n",
       "    </tr>\n",
       "    <tr>\n",
       "      <th>2</th>\n",
       "      <td>Q493567-P106-2</td>\n",
       "      <td>Q493567</td>\n",
       "      <td>P106</td>\n",
       "      <td>Q39631</td>\n",
       "    </tr>\n",
       "    <tr>\n",
       "      <th>3</th>\n",
       "      <td>Q493567-P106-3</td>\n",
       "      <td>Q493567</td>\n",
       "      <td>P106</td>\n",
       "      <td>Q82955</td>\n",
       "    </tr>\n",
       "    <tr>\n",
       "      <th>4</th>\n",
       "      <td>Q493567-P106-4</td>\n",
       "      <td>Q493567</td>\n",
       "      <td>P106</td>\n",
       "      <td>Q1622272</td>\n",
       "    </tr>\n",
       "    <tr>\n",
       "      <th>...</th>\n",
       "      <td>...</td>\n",
       "      <td>...</td>\n",
       "      <td>...</td>\n",
       "      <td>...</td>\n",
       "    </tr>\n",
       "    <tr>\n",
       "      <th>11389387</th>\n",
       "      <td>Q92959340-P31-1</td>\n",
       "      <td>Q92959340</td>\n",
       "      <td>P31</td>\n",
       "      <td>Q5</td>\n",
       "    </tr>\n",
       "    <tr>\n",
       "      <th>11389388</th>\n",
       "      <td>Q93068965-P496-1</td>\n",
       "      <td>Q93068965</td>\n",
       "      <td>P496</td>\n",
       "      <td>0000-0002-0515-3933</td>\n",
       "    </tr>\n",
       "    <tr>\n",
       "      <th>11389389</th>\n",
       "      <td>Q93068965-P31-1</td>\n",
       "      <td>Q93068965</td>\n",
       "      <td>P31</td>\n",
       "      <td>Q5</td>\n",
       "    </tr>\n",
       "    <tr>\n",
       "      <th>11389390</th>\n",
       "      <td>Q93078579-P496-1</td>\n",
       "      <td>Q93078579</td>\n",
       "      <td>P496</td>\n",
       "      <td>0000-0003-4287-7831</td>\n",
       "    </tr>\n",
       "    <tr>\n",
       "      <th>11389391</th>\n",
       "      <td>Q93078579-P31-1</td>\n",
       "      <td>Q93078579</td>\n",
       "      <td>P31</td>\n",
       "      <td>Q5</td>\n",
       "    </tr>\n",
       "  </tbody>\n",
       "</table>\n",
       "<p>11389392 rows × 4 columns</p>\n",
       "</div>"
      ],
      "text/plain": [
       "                        id      node1 label                node2\n",
       "0            Q493567-P21-1    Q493567   P21             Q6581097\n",
       "1           Q493567-P106-1    Q493567  P106             Q3779582\n",
       "2           Q493567-P106-2    Q493567  P106               Q39631\n",
       "3           Q493567-P106-3    Q493567  P106               Q82955\n",
       "4           Q493567-P106-4    Q493567  P106             Q1622272\n",
       "...                    ...        ...   ...                  ...\n",
       "11389387   Q92959340-P31-1  Q92959340   P31                   Q5\n",
       "11389388  Q93068965-P496-1  Q93068965  P496  0000-0002-0515-3933\n",
       "11389389   Q93068965-P31-1  Q93068965   P31                   Q5\n",
       "11389390  Q93078579-P496-1  Q93078579  P496  0000-0003-4287-7831\n",
       "11389391   Q93078579-P31-1  Q93078579   P31                   Q5\n",
       "\n",
       "[11389392 rows x 4 columns]"
      ]
     },
     "execution_count": 27,
     "metadata": {},
     "output_type": "execute_result"
    }
   ],
   "source": [
    "ccau = pd.read_csv(os.getenv(\"COVID\")+'/corpus-citations-and-authors.tsv', delimiter='\\t', dtype=object)\n",
    "ccau.loc[:, ['id', 'node1', 'label', 'node2']]"
   ]
  },
  {
   "cell_type": "code",
   "execution_count": 28,
   "metadata": {},
   "outputs": [
    {
     "data": {
      "text/plain": [
       "Q13442814    288236\n",
       "Q1860        156362\n",
       "1             36519\n",
       "2             33157\n",
       "3             30061\n",
       "4             27443\n",
       "5             23557\n",
       "6             23406\n",
       "7             16362\n",
       "8             16141\n",
       "9             14921\n",
       "10            14679\n",
       "Q1251128      14032\n",
       "11            13758\n",
       "Q5            13615\n",
       "12            13434\n",
       "Q1650915       8181\n",
       "Q1146531       7967\n",
       "Q564954        6669\n",
       "13             6077\n",
       "Name: node2, dtype: int64"
      ]
     },
     "execution_count": 28,
     "metadata": {},
     "output_type": "execute_result"
    }
   ],
   "source": [
    "ccau.node2.value_counts()[0:20]"
   ]
  },
  {
   "cell_type": "code",
   "execution_count": 29,
   "metadata": {},
   "outputs": [
    {
     "name": "stdout",
     "output_type": "stream",
     "text": [
      "\u001b[90mid\u001b[39m Q13442814\n",
      "\u001b[42mLabel\u001b[49m scholarly article\n",
      "\u001b[44mDescription\u001b[49m article in an academic publication, usually peer reviewed\n",
      "\u001b[30m\u001b[47msubclass of\u001b[49m\u001b[39m \u001b[90m(P279)\u001b[39m\u001b[90m: \u001b[39mscholarly publication \u001b[90m(Q591041)\u001b[39m | article \u001b[90m(Q191067)\u001b[39m | scholarly work \u001b[90m(Q55915575)\u001b[39m\n",
      "\n",
      "\u001b[90mid\u001b[39m Q1860\n",
      "\u001b[42mLabel\u001b[49m English\n",
      "\u001b[44mDescription\u001b[49m West Germanic language originating in England with linguistic roots in French, German and Vulgar Latin\n",
      "\u001b[30m\u001b[47minstance of\u001b[49m\u001b[39m \u001b[90m(P31)\u001b[39m\u001b[90m: \u001b[39m natural language \u001b[90m(Q33742)\u001b[39m | modern language \u001b[90m(Q1288568)\u001b[39m | language \u001b[90m(Q34770)\u001b[39m\n",
      "\u001b[30m\u001b[47msubclass of\u001b[49m\u001b[39m \u001b[90m(P279)\u001b[39m\u001b[90m: \u001b[39mAnglic languages \u001b[90m(Q1346342)\u001b[39m\n",
      "\n",
      "\u001b[90mid\u001b[39m Q1251128\n",
      "\u001b[42mLabel\u001b[49m Journal of Virology\n",
      "\u001b[44mDescription\u001b[49m scientific journal\n",
      "\u001b[30m\u001b[47minstance of\u001b[49m\u001b[39m \u001b[90m(P31)\u001b[39m\u001b[90m: \u001b[39mscientific journal \u001b[90m(Q5633421)\u001b[39m | delayed open access journal \u001b[90m(Q5253501)\u001b[39m\n"
     ]
    }
   ],
   "source": [
    "!wd u Q13442814, Q1860, Q1251128"
   ]
  },
  {
   "cell_type": "code",
   "execution_count": null,
   "metadata": {},
   "outputs": [],
   "source": [
    "!cat $COVID/corpus-identifier-edges.tsv | kgtk filter -p \";P698,P932;\" | gzip > $COVID/corpus-article-identifier-edges.tsv.gz"
   ]
  },
  {
   "cell_type": "code",
   "execution_count": null,
   "metadata": {},
   "outputs": [],
   "source": [
    "!cat $COVID/corpus-identifier-edges.tsv | kgtk filter -p \";P685,P486,P351,P5055;\" | gzip > $COVID/corpus-entity-identifier-edges.tsv.gz"
   ]
  },
  {
   "cell_type": "code",
   "execution_count": null,
   "metadata": {},
   "outputs": [],
   "source": []
  },
  {
   "cell_type": "markdown",
   "metadata": {},
   "source": [
    "## Create Missing Items"
   ]
  },
  {
   "cell_type": "markdown",
   "metadata": {},
   "source": [
    "### Step 4: find the identifiers in `corpus-identifiers.tsv` for which there is no `node1` in Wikidata"
   ]
  },
  {
   "cell_type": "markdown",
   "metadata": {},
   "source": [
    "We do this with the `kgtk ifnotexists` command to scan the file corpus-identifiers.tsv to select the ones which do not have a `node1` in the file `corpus-identifier-edges.tsv`. We store the results in `corpus-identifiers-not-in-wikidata.tsv`"
   ]
  },
  {
   "cell_type": "code",
   "execution_count": 40,
   "metadata": {},
   "outputs": [],
   "source": [
    "!cat $COVID/corpus-identifiers.tsv | \\\n",
    "kgtk ifnotexists --input-keys label node2 --filter-on  $COVID/corpus-identifier-edges.tsv --filter-keys label node2 \\\n",
    "--mode=NONE > $COVID/corpus-identifiers-not-in-wikidata.tsv"
   ]
  },
  {
   "cell_type": "markdown",
   "metadata": {},
   "source": [
    "Format the missing identifiers file by string qouting the identifiers"
   ]
  },
  {
   "cell_type": "code",
   "execution_count": null,
   "metadata": {},
   "outputs": [],
   "source": [
    "df = pd.read_csv('{}/corpus-identifiers-not-in-wikidata.tsv'.format(os.getenv('COVID')), sep='\\t', dtype=object)\n",
    "df['node2'] = df['node2'].map(lambda x: json.dumps(x))\n",
    "df.to_csv('{}/corpus-identifiers-not-in-wikidata_formatted.tsv'.format(os.getenv('COVID')), sep='\\t', index=False)"
   ]
  },
  {
   "cell_type": "markdown",
   "metadata": {},
   "source": [
    "The number of missing identifiers in Wikidata(minus the header row): 28112"
   ]
  },
  {
   "cell_type": "code",
   "execution_count": 24,
   "metadata": {},
   "outputs": [
    {
     "name": "stdout",
     "output_type": "stream",
     "text": [
      "   28113 /Users/amandeep/Github/CKG-Covid/datasets/sandbox/corpus-identifiers-not-in-wikidata_formatted.tsv\r\n"
     ]
    }
   ],
   "source": [
    "!wc -l $COVID/corpus-identifiers-not-in-wikidata_formatted.tsv"
   ]
  },
  {
   "cell_type": "markdown",
   "metadata": {},
   "source": [
    "### Process and clean CTD datasets for `Chemicals`, `Diseases` and `Genes`"
   ]
  },
  {
   "cell_type": "markdown",
   "metadata": {},
   "source": [
    "#### Step 1: Process CTD Diseases file"
   ]
  },
  {
   "cell_type": "code",
   "execution_count": 100,
   "metadata": {},
   "outputs": [],
   "source": [
    "rename_columns = {\n",
    "    '# DiseaseName': 'label',\n",
    "    'DiseaseID': 'P486',\n",
    "    'Definition': 'descriptions',\n",
    "    'Synonyms': 'aliases'\n",
    "    \n",
    "}\n",
    "drop_columns = ['AltDiseaseIDs', 'ParentIDs', 'TreeNumbers', 'ParentTreeNumbers','SlimMappings']\n",
    "\n",
    "df_disease = pd.read_csv('{}/CTD_diseases.tsv.gz'.format(os.getenv(\"COVID\")), sep='\\t', skiprows=27)\n",
    "df_disease = df_disease.fillna('').rename(columns=rename_columns).drop(columns=drop_columns)\n",
    "df_disease['P486'] = df_disease['P486'].map(lambda x: x[5:] if x.startswith('MESH') or x.startswith(\"OMIM\") else x).map(lambda x: json.dumps(x))\n",
    "df_disease.to_csv('{}/CTD_diseases_clean.tsv'.format(os.getenv(\"COVID\")), sep='\\t', index=False)"
   ]
  },
  {
   "cell_type": "markdown",
   "metadata": {},
   "source": [
    "Find the disease ids in the `CTD_diseases_clean.tsv` for the missing identifiers in Wikidata in the `corpus-identifiers-not-in-wikidata_formatted.tsv` file.\n",
    "\n",
    "We do this with the `kgtk ifexists` command."
   ]
  },
  {
   "cell_type": "code",
   "execution_count": 101,
   "metadata": {},
   "outputs": [],
   "source": [
    "!cat $COVID/CTD_diseases_clean.tsv | \\\n",
    "kgtk ifexists --input-keys P486 --filter-on  $COVID/corpus-identifiers-not-in-wikidata_formatted.tsv --filter-keys node2 \\\n",
    "--mode=NONE > $COVID/CTD-diseases-corpus-identifiers.tsv"
   ]
  },
  {
   "cell_type": "markdown",
   "metadata": {},
   "source": [
    "Add the column `node1`, creating pseudo Wikidata Qnodes with the formula:\n",
    "Qnode(Disease_ID) = `Q00005550-disease-<Disease_ID>`.\n",
    "\n",
    "Also add the column `P31`(instance of) with a constant value of `Q12136` (disease)"
   ]
  },
  {
   "cell_type": "code",
   "execution_count": 102,
   "metadata": {},
   "outputs": [],
   "source": [
    "df_dc = pd.read_csv('{}/CTD-diseases-corpus-identifiers.tsv'.format(os.getenv(\"COVID\")), sep='\\t')\n",
    "df_dc['node1'] = df_dc['P486'].map(lambda x: 'Q00005550-disease-{}'.format(x.replace('\"', '')))\n",
    "df_dc['P31'] = 'Q12136'\n",
    "df_dc.to_csv('{}/CTD-diseases-corpus-identifiers-node1.tsv'.format(os.getenv(\"COVID\")), sep='\\t', index=False)\n"
   ]
  },
  {
   "cell_type": "markdown",
   "metadata": {},
   "source": [
    "Convert the CTD disease file to a `KGTK Edge` file.\n",
    "We do this with `mlr reshape` command"
   ]
  },
  {
   "cell_type": "code",
   "execution_count": 103,
   "metadata": {},
   "outputs": [],
   "source": [
    "!cat $COVID/CTD-diseases-corpus-identifiers-node1.tsv | \\\n",
    "mlr --itsv --otsv reshape -i label,P486,descriptions,aliases,P31 -o label,node2 \\\n",
    "> $COVID/CTD-diseases-corpus-identifiers-compact.tsv"
   ]
  },
  {
   "cell_type": "markdown",
   "metadata": {},
   "source": [
    "`aliases` in the above file contains multiple values separated by `|`\n",
    "We can expand the values into multiple rows with `kgtk expand` command"
   ]
  },
  {
   "cell_type": "code",
   "execution_count": 104,
   "metadata": {},
   "outputs": [],
   "source": [
    "!cat $COVID/CTD-diseases-corpus-identifiers-compact.tsv | kgtk expand --columns node1 label --mode NONE \\\n",
    "> $COVID/CTD-diseases-corpus-edges.tsv"
   ]
  },
  {
   "cell_type": "code",
   "execution_count": 20,
   "metadata": {},
   "outputs": [
    {
     "name": "stdout",
     "output_type": "stream",
     "text": [
      "node1                      label         node2\r\n",
      "Q00005550-disease-C537806  label         18-Hydroxylase  deficiency\r\n",
      "Q00005550-disease-C537806  P486          \"\"\"C537806\"\"\"\r\n",
      "Q00005550-disease-C537806  descriptions\r\n",
      "Q00005550-disease-C537806  aliases       18-alpha        hydroxylase  deficiency\r\n",
      "Q00005550-disease-C537806  aliases       18-HYDROXYLASE  DEFICIENCY\r\n",
      "Q00005550-disease-C537806  aliases       18-Oxidase      Deficiency\r\n",
      "Q00005550-disease-C537806  aliases       Aldosterone     deficiency   1\r\n",
      "Q00005550-disease-C537806  aliases       Aldosterone     deficiency   due         to  defect  in  18-hydroxylase\r\n",
      "Q00005550-disease-C537806  aliases       ALDOSTERONE     DEFICIENCY   DUE         TO  DEFECT  IN  STEROID         18-HYDROXYLASE\r\n"
     ]
    }
   ],
   "source": [
    "!head $COVID/CTD-diseases-corpus-edges.tsv | column -t"
   ]
  },
  {
   "cell_type": "markdown",
   "metadata": {},
   "source": [
    "#### Step 2: Process CTD Chemicals file"
   ]
  },
  {
   "cell_type": "code",
   "execution_count": 106,
   "metadata": {},
   "outputs": [],
   "source": [
    "rename_columns = {\n",
    "    '# ChemicalName': 'label',\n",
    "    'ChemicalID': 'P486',\n",
    "    'Definition': 'descriptions',\n",
    "    'Synonyms': 'aliases',\n",
    "    'CasRN': 'P231' # CAS Rn number\n",
    "    \n",
    "}\n",
    "drop_columns = ['ParentIDs', 'TreeNumbers', 'ParentTreeNumbers','DrugBankIDs']\n",
    "\n",
    "df_chemical = pd.read_csv('{}/CTD_chemicals.tsv.gz'.format(os.getenv(\"COVID\")), sep='\\t', skiprows=27)\n",
    "df_chemical = df_chemical.fillna('').rename(columns=rename_columns).drop(columns=drop_columns)\n",
    "df_chemical['P486'] = df_chemical['P486'].map(lambda x: x[5:] if x.startswith('MESH') or x.startswith(\"OMIM\") else x).map(lambda x: json.dumps(x))\n",
    "df_chemical['P231'] = df_chemical['P231'].map(lambda x: x[5:] if x.startswith('MESH') or x.startswith(\"OMIM\") else x).map(lambda x: json.dumps(x) if x else x)\n",
    "df_chemical.to_csv('{}/CTD_chemicals_clean.tsv'.format(os.getenv(\"COVID\")), sep='\\t', index=False)"
   ]
  },
  {
   "cell_type": "markdown",
   "metadata": {},
   "source": [
    "Find the chemical ids in the `CTD_chemicals_clean.tsv` for the missing identifiers in Wikidata in the `corpus-identifiers-not-in-wikidata_formatted.tsv` file.\n",
    "\n",
    "We do this with the `kgtk ifexists` command."
   ]
  },
  {
   "cell_type": "code",
   "execution_count": 107,
   "metadata": {},
   "outputs": [],
   "source": [
    "!cat $COVID/CTD_chemicals_clean.tsv | \\\n",
    "kgtk ifexists --input-keys P486 --filter-on  $COVID/corpus-identifiers-not-in-wikidata_formatted.tsv --filter-keys node2 \\\n",
    "--mode=NONE > $COVID/CTD-chemicals-corpus-identifiers.tsv"
   ]
  },
  {
   "cell_type": "markdown",
   "metadata": {},
   "source": [
    "Add the column `node1`, creating pseudo Wikidata Qnodes with the formula:\n",
    "Qnode(Chemical_ID) = `Q00005550-chemical-<Chemical_ID>`.\n",
    "\n",
    "Also add the column `P31`(instance of) with a constant value of `Q11344` (chemical element)"
   ]
  },
  {
   "cell_type": "code",
   "execution_count": 108,
   "metadata": {},
   "outputs": [],
   "source": [
    "df_cc = pd.read_csv('{}/CTD-chemicals-corpus-identifiers.tsv'.format(os.getenv(\"COVID\")), sep='\\t')\n",
    "df_cc['node1'] = df_cc['P486'].map(lambda x: 'Q00005550-chemical-{}'.format(x.replace('\"', '')))\n",
    "df_cc['P31'] = 'Q11344'\n",
    "df_cc.to_csv('{}/CTD-chemicals-corpus-identifiers-node1.tsv'.format(os.getenv(\"COVID\")), sep='\\t', index=False)\n"
   ]
  },
  {
   "cell_type": "markdown",
   "metadata": {},
   "source": [
    "Convert the CTD chemical file to a `KGTK Edge` file.\n",
    "We do this with `mlr reshape` command"
   ]
  },
  {
   "cell_type": "code",
   "execution_count": 109,
   "metadata": {},
   "outputs": [],
   "source": [
    "!cat $COVID/CTD-chemicals-corpus-identifiers-node1.tsv | \\\n",
    "mlr --itsv --otsv reshape -i label,P486,descriptions,aliases,P31,P231 -o label,node2 \\\n",
    "> $COVID/CTD-chemicals-corpus-identifiers-compact.tsv"
   ]
  },
  {
   "cell_type": "markdown",
   "metadata": {},
   "source": [
    "`aliases` in the above file contains multiple values separated by `|`\n",
    "We can expand the values into multiple rows with `kgtk expand` command"
   ]
  },
  {
   "cell_type": "code",
   "execution_count": 110,
   "metadata": {},
   "outputs": [],
   "source": [
    "!cat $COVID/CTD-chemicals-corpus-identifiers-compact.tsv | kgtk expand --columns node1 label --mode NONE \\\n",
    "> $COVID/CTD-chemicals-corpus-edges.tsv"
   ]
  },
  {
   "cell_type": "code",
   "execution_count": 19,
   "metadata": {},
   "outputs": [
    {
     "name": "stdout",
     "output_type": "stream",
     "text": [
      "node1                       label         node2\r\n",
      "Q00005550-chemical-C493119  label         07H239-A\r\n",
      "Q00005550-chemical-C493119  P486          \"\"\"C493119\"\"\"\r\n",
      "Q00005550-chemical-C493119  descriptions\r\n",
      "Q00005550-chemical-C493119  aliases\r\n",
      "Q00005550-chemical-C493119  P31           Q11344\r\n",
      "Q00005550-chemical-C493119  P231\r\n",
      "Q00005550-chemical-C534883  label         10074-G5\r\n",
      "Q00005550-chemical-C534883  P486          \"\"\"C534883\"\"\"\r\n",
      "Q00005550-chemical-C534883  descriptions\r\n"
     ]
    }
   ],
   "source": [
    "!head $COVID/CTD-chemicals-corpus-edges.tsv | column -t"
   ]
  },
  {
   "cell_type": "markdown",
   "metadata": {},
   "source": [
    "#### Step 3: Process CTD Genes file"
   ]
  },
  {
   "cell_type": "code",
   "execution_count": 112,
   "metadata": {},
   "outputs": [],
   "source": [
    "rename_columns = {\n",
    "    'GeneName': 'descriptions',\n",
    "    'GeneID': 'P351',\n",
    "    '# GeneSymbol': 'label',\n",
    "    'Synonyms': 'aliases',\n",
    "    'PharmGKBIDs': 'P7001',\n",
    "    'UniProtIDs': 'P352'\n",
    "    \n",
    "}\n",
    "drop_columns = ['AltGeneIDs', 'BioGRIDIDs']\n",
    "\n",
    "df_gene = pd.read_csv('{}/CTD_genes.tsv.gz'.format(os.getenv(\"COVID\")), sep='\\t', skiprows=27, dtype=object)\n",
    "df_gene = df_gene.fillna('').rename(columns=rename_columns).drop(columns=drop_columns)\n",
    "df_gene['P351'] = df_gene['P351'].map(lambda x: str(x)).map(lambda x: x[5:] if x.startswith('MESH') or x.startswith(\"OMIM\") else x).map(lambda x: json.dumps(x))\n",
    "df_gene['P7001'] = df_gene['P7001'].map(lambda x: json.dumps(x) if x else x)\n",
    "df_gene['P352'] = df_gene['P352'].map(lambda x: json.dumps(x) if x else x)\n",
    "df_gene.to_csv('{}/CTD_genes_clean.tsv'.format(os.getenv(\"COVID\")), sep='\\t', index=False)"
   ]
  },
  {
   "cell_type": "markdown",
   "metadata": {},
   "source": [
    "Find the gene ids in the `CTD_genes_clean.tsv` for the missing identifiers in Wikidata in the `corpus-identifiers-not-in-wikidata_formatted.tsv` file.\n",
    "\n",
    "We do this with the `kgtk ifexists` command."
   ]
  },
  {
   "cell_type": "code",
   "execution_count": 113,
   "metadata": {},
   "outputs": [],
   "source": [
    "!cat $COVID/CTD_genes_clean.tsv | \\\n",
    "kgtk ifexists --input-keys P351 --filter-on  $COVID/corpus-identifiers-not-in-wikidata_formatted.tsv --filter-keys node2 \\\n",
    "--mode=NONE > $COVID/CTD-genes-corpus-identifiers.tsv"
   ]
  },
  {
   "cell_type": "markdown",
   "metadata": {},
   "source": [
    "Add the column `node1`, creating pseudo Wikidata Qnodes with the formula:\n",
    "Qnode(Gene_ID) = `Q00005550-gene-<Gene_ID>`.\n",
    "\n",
    "Also add the column `P31`(instance of) with a constant value of `Q7187` (gene)"
   ]
  },
  {
   "cell_type": "code",
   "execution_count": 114,
   "metadata": {},
   "outputs": [],
   "source": [
    "df_gc = pd.read_csv('{}/CTD-genes-corpus-identifiers.tsv'.format(os.getenv(\"COVID\")), sep='\\t')\n",
    "df_gc['node1'] = df_gc['P351'].map(lambda x: 'Q00005550-gene-{}'.format(x.replace('\"', '')))\n",
    "df_gc['P31'] = 'Q7187'\n",
    "df_gc.to_csv('{}/CTD-genes-corpus-identifiers-node1.tsv'.format(os.getenv(\"COVID\")), sep='\\t', index=False)\n"
   ]
  },
  {
   "cell_type": "markdown",
   "metadata": {},
   "source": [
    "Convert the CTD gene file to a `KGTK Edge` file.\n",
    "We do this with `mlr reshape` command"
   ]
  },
  {
   "cell_type": "code",
   "execution_count": 115,
   "metadata": {},
   "outputs": [],
   "source": [
    "!cat $COVID/CTD-genes-corpus-identifiers-node1.tsv | \\\n",
    "mlr --itsv --otsv reshape -i label,P351,descriptions,aliases,P31,P7001,P352 -o label,node2 \\\n",
    "> $COVID/CTD-genes-corpus-identifiers-compact.tsv"
   ]
  },
  {
   "cell_type": "markdown",
   "metadata": {},
   "source": [
    "`aliases` in the above file contains multiple values separated by `|`\n",
    "We can expand the values into multiple rows with `kgtk expand` command"
   ]
  },
  {
   "cell_type": "code",
   "execution_count": 116,
   "metadata": {},
   "outputs": [],
   "source": [
    "!cat $COVID/CTD-genes-corpus-identifiers-compact.tsv | kgtk expand --columns node1 label --mode NONE \\\n",
    "> $COVID/CTD-genes-corpus-edges.tsv"
   ]
  },
  {
   "cell_type": "code",
   "execution_count": 18,
   "metadata": {},
   "outputs": [
    {
     "name": "stdout",
     "output_type": "stream",
     "text": [
      "node1                  label         node2\r\n",
      "Q00005550-gene-27521   label         272I21T\r\n",
      "Q00005550-gene-27521   P351          \"\"\"27521\"\"\"\r\n",
      "Q00005550-gene-27521   descriptions  DNA           segment,  272I21T\r\n",
      "Q00005550-gene-27521   aliases\r\n",
      "Q00005550-gene-27521   P31           Q7187\r\n",
      "Q00005550-gene-27521   P7001\r\n",
      "Q00005550-gene-27521   P352\r\n",
      "Q00005550-gene-414970  label         2959A1\r\n",
      "Q00005550-gene-414970  P351          \"\"\"414970\"\"\"\r\n"
     ]
    }
   ],
   "source": [
    "!head $COVID/CTD-genes-corpus-edges.tsv | column -t"
   ]
  },
  {
   "cell_type": "markdown",
   "metadata": {},
   "source": [
    "## Create Mention Edges"
   ]
  },
  {
   "cell_type": "code",
   "execution_count": 3,
   "metadata": {},
   "outputs": [
    {
     "name": "stdout",
     "output_type": "stream",
     "text": [
      "Total number of papers in the corpus:  20446\n",
      "Done!\n"
     ]
    }
   ],
   "source": [
    "from scripts.create_mention_edges import CreateMentionEdges\n",
    "\n",
    "\n",
    "# The class CreateMentionEdges has the following input parameters in order,\n",
    "#     1. The path where the folders `pmid_abs` and `pmcid` are (from Heng)\n",
    "#     2. corpus-identifier-edges.tsv - file which has Qnodes for identifiers in Wikidata\n",
    "#     3. CTD-genes-corpus-edges.tsv - file with Qnodes for genes created by us\n",
    "#     4. CTD-diseases-corpus-edges.tsv - file with Qnodes for diseases created by us\n",
    "#     5. CTD-chemicals-corpus-edges.tsv - file with Qnodes for chemicals created by us\n",
    "\n",
    "cme = CreateMentionEdges(os.getenv(\"COVID\"), \n",
    "                        '{}/corpus-identifier-edges.tsv'.format(os.getenv(\"COVID\")),\n",
    "                        '{}/CTD-genes-corpus-edges.tsv'.format(os.getenv(\"COVID\")),\n",
    "                        '{}/CTD-diseases-corpus-edges.tsv'.format(os.getenv(\"COVID\")),\n",
    "                        '{}/CTD-chemicals-corpus-edges.tsv'.format(os.getenv(\"COVID\")))\n",
    "cme.create_mention_edges(os.getenv(\"COVID\"))\n"
   ]
  },
  {
   "cell_type": "markdown",
   "metadata": {},
   "source": [
    "The code above will create 3 files at output path $COVID,\n",
    "\n",
    "* covid_kgtk_blender_mentions.tsv: File with mention edges\n",
    "* covid_kgtk_blender_mentions_qualifiers.tsv: qualifiers for the mention edges\n",
    "* scholarly_articles_not_in_wikidata.tsv: papers edges files which were not present in Wikidata\n",
    "    "
   ]
  },
  {
   "cell_type": "code",
   "execution_count": 17,
   "metadata": {},
   "outputs": [
    {
     "name": "stdout",
     "output_type": "stream",
     "text": [
      "node1             label     node2             id\r\n",
      "Q77092138         P2020003  Q166231           Q77092138-P2020003-0\r\n",
      "Q77092138         P2020007  Q20747334         Q77092138-P2020007-1\r\n",
      "Q77092138         P2020007  Q20747334         Q77092138-P2020007-2\r\n",
      "Q77092138         P2020007  Q20747334         Q77092138-P2020007-3\r\n",
      "Q77092138         P2020003  Q767485           Q77092138-P2020003-4\r\n",
      "Q77092138         P2020001  Q77092138-text-0  Q77092138-P2020001-0\r\n",
      "Q77092138-text-0  P2020012  Immunology        and                     prevention  of  infection  in  feedlot  cattle.  Q77092138-text-0-label-0\r\n",
      "Q77092138-text-0  P31       Q1385610          Q77092138-text-0-P31-0\r\n",
      "Q77092138         P2020001  Q77092138-text-1  Q77092138-P2020001-1\r\n"
     ]
    }
   ],
   "source": [
    "!head $COVID/covid_kgtk_blender_mentions.tsv | column -t "
   ]
  },
  {
   "cell_type": "code",
   "execution_count": 16,
   "metadata": {},
   "outputs": [
    {
     "name": "stdout",
     "output_type": "stream",
     "text": [
      "node1                 label     node2                            id\r\n",
      "Q77092138-P2020003-0  P4153     29                               Q77092138-P2020003-0-0\r\n",
      "Q77092138-P2020003-0  P2043     9                                Q77092138-P2020003-0-1\r\n",
      "Q77092138-P2020003-0  P1932     infection                        Q77092138-P2020003-0-2\r\n",
      "Q77092138-P2020003-0  P2020008  http://blender.cs.illinois.edu/  Q77092138-P2020003-0-3\r\n",
      "Q77092138-P2020003-0  P2020001  Q77092138-text-0                 Q77092138-P2020003-0-4\r\n",
      "Q77092138-P2020007-1  P4153     50                               Q77092138-P2020007-1-0\r\n",
      "Q77092138-P2020007-1  P2043     6                                Q77092138-P2020007-1-1\r\n",
      "Q77092138-P2020007-1  P1932     cattle                           Q77092138-P2020007-1-2\r\n",
      "Q77092138-P2020007-1  P2020008  http://blender.cs.illinois.edu/  Q77092138-P2020007-1-3\r\n"
     ]
    }
   ],
   "source": [
    "!head $COVID/covid_kgtk_blender_mentions_qualifiers.tsv | column -t "
   ]
  },
  {
   "cell_type": "code",
   "execution_count": 15,
   "metadata": {},
   "outputs": [
    {
     "name": "stdout",
     "output_type": "stream",
     "text": [
      "id                         node1              label  node2\r\n",
      "Q000077708998245-P31-0     Q000077708998245   P31    Q13442814\r\n",
      "Q000077708998245-label-1   Q000077708998245   label  Immunity   to  infection.\r\n",
      "Q000077708998245-P577-2    Q000077708998245   P577   1996\r\n",
      "Q000077708998245-P1476-3   Q000077708998245   P1476  Immunity   to  infection.\r\n",
      "Q000077708998245-P698-4    Q000077708998245   P698   8998245\r\n",
      "Q0000777022951009-P31-0    Q0000777022951009  P31    Q13442814\r\n",
      "Q0000777022951009-label-1  Q0000777022951009  label  Stock      or  stroke?     Stock  market  movement  and  stroke  incidence  in  Taiwan.\r\n",
      "Q0000777022951009-P577-2   Q0000777022951009  P577   2012\r\n",
      "Q0000777022951009-P1476-3  Q0000777022951009  P1476  Stock      or  stroke?     Stock  market  movement  and  stroke  incidence  in  Taiwan.\r\n"
     ]
    }
   ],
   "source": [
    "!head $COVID/scholarly_articles_not_in_wikidata.tsv | column -t"
   ]
  },
  {
   "cell_type": "markdown",
   "metadata": {},
   "source": [
    "## Generate RDF Triples"
   ]
  },
  {
   "cell_type": "markdown",
   "metadata": {},
   "source": [
    "`kgtk` comes packaged with the command `generate_wikidata_triples` which can generate RDF triples from a KGTK edge file.\n"
   ]
  },
  {
   "cell_type": "markdown",
   "metadata": {},
   "source": [
    "### Step 1: concatenate the edge files we created in this notebook"
   ]
  },
  {
   "cell_type": "markdown",
   "metadata": {},
   "source": [
    "we do this with `kgtk cat` command"
   ]
  },
  {
   "cell_type": "code",
   "execution_count": 22,
   "metadata": {},
   "outputs": [],
   "source": [
    "!kgtk cat $COVID/corpus-edges.tsv \\\n",
    "          $COVID/corpus-citations-and-authors.tsv \\\n",
    "          $COVID/CTD-diseases-corpus-edges.tsv \\\n",
    "          $COVID/CTD-chemicals-corpus-edges.tsv \\\n",
    "          $COVID/CTD-genes-corpus-edges.tsv \\\n",
    "          $COVID/covid_kgtk_blender_mentions.tsv \\\n",
    "          $COVID/covid_kgtk_blender_mentions_qualifiers.tsv \\\n",
    "          $COVID/scholarly_articles_not_in_wikidata.tsv > $COVID/corpus-all.tsv"
   ]
  },
  {
   "cell_type": "code",
   "execution_count": 24,
   "metadata": {},
   "outputs": [
    {
     "name": "stdout",
     "output_type": "stream",
     "text": [
      " 2297783 /Users/amandeep/Github/CKG-Covid/datasets/sandbox/corpus-edges.tsv\n",
      " 11389393 /Users/amandeep/Github/CKG-Covid/datasets/sandbox/corpus-citations-and-authors.tsv\n",
      "    5305 /Users/amandeep/Github/CKG-Covid/datasets/sandbox/CTD-diseases-corpus-edges.tsv\n",
      "  112456 /Users/amandeep/Github/CKG-Covid/datasets/sandbox/CTD-chemicals-corpus-edges.tsv\n",
      "   41616 /Users/amandeep/Github/CKG-Covid/datasets/sandbox/CTD-genes-corpus-edges.tsv\n",
      " 8142747 /Users/amandeep/Github/CKG-Covid/datasets/sandbox/covid_kgtk_blender_mentions.tsv\n",
      " 25868901 /Users/amandeep/Github/CKG-Covid/datasets/sandbox/covid_kgtk_blender_mentions_qualifiers.tsv\n",
      "     456 /Users/amandeep/Github/CKG-Covid/datasets/sandbox/scholarly_articles_not_in_wikidata.tsv\n",
      " 47858650 /Users/amandeep/Github/CKG-Covid/datasets/sandbox/corpus-all.tsv\n"
     ]
    }
   ],
   "source": [
    "!wc -l $COVID/corpus-edges.tsv \n",
    "!wc -l $COVID/corpus-citations-and-authors.tsv \n",
    "!wc -l $COVID/CTD-diseases-corpus-edges.tsv \n",
    "!wc -l $COVID/CTD-chemicals-corpus-edges.tsv \n",
    "!wc -l $COVID/CTD-genes-corpus-edges.tsv \n",
    "!wc -l $COVID/covid_kgtk_blender_mentions.tsv \n",
    "!wc -l $COVID/covid_kgtk_blender_mentions_qualifiers.tsv \n",
    "!wc -l $COVID/scholarly_articles_not_in_wikidata.tsv\n",
    "!wc -l $COVID/corpus-all.tsv"
   ]
  },
  {
   "cell_type": "markdown",
   "metadata": {},
   "source": [
    "### Step 2: generate rdf triples"
   ]
  },
  {
   "cell_type": "markdown",
   "metadata": {},
   "source": [
    "we do this with `kgtk generate_wikidata_triples` command"
   ]
  },
  {
   "cell_type": "code",
   "execution_count": null,
   "metadata": {},
   "outputs": [],
   "source": [
    "!cat $COVID/corpus-all.tsv | kgtk generate_wikidata_triples \\\n",
    "                                -ap aliases \\\n",
    "                                -lp label \\\n",
    "                                -dp descriptions \\\n",
    "                                -pf properties.tsv \\ \n",
    "                                -n 1000 \\\n",
    "                                -ig no  \\\n",
    "                                --debug \\\n",
    "                                -gt yes > $COVID/corpus-all.ttl"
   ]
  },
  {
   "cell_type": "markdown",
   "metadata": {},
   "source": [
    "## Incorporate Analytic Outputs"
   ]
  },
  {
   "cell_type": "code",
   "execution_count": null,
   "metadata": {},
   "outputs": [],
   "source": []
  }
 ],
 "metadata": {
  "kernelspec": {
   "display_name": "kgtk-env",
   "language": "python",
   "name": "kgtk-env"
  },
  "language_info": {
   "codemirror_mode": {
    "name": "ipython",
    "version": 3
   },
   "file_extension": ".py",
   "mimetype": "text/x-python",
   "name": "python",
   "nbconvert_exporter": "python",
   "pygments_lexer": "ipython3",
   "version": "3.7.7"
  }
 },
 "nbformat": 4,
 "nbformat_minor": 4
}
